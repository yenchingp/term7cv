{
 "cells": [
  {
   "cell_type": "code",
   "execution_count": 1,
   "metadata": {},
   "outputs": [
    {
     "name": "stderr",
     "output_type": "stream",
     "text": [
      "2023-11-30 18:19:08.349834: I tensorflow/core/platform/cpu_feature_guard.cc:193] This TensorFlow binary is optimized with oneAPI Deep Neural Network Library (oneDNN) to use the following CPU instructions in performance-critical operations:  AVX2 FMA\n",
      "To enable them in other operations, rebuild TensorFlow with the appropriate compiler flags.\n",
      "2023-11-30 18:19:08.452253: E tensorflow/stream_executor/cuda/cuda_blas.cc:2981] Unable to register cuBLAS factory: Attempting to register factory for plugin cuBLAS when one has already been registered\n",
      "2023-11-30 18:19:08.794348: W tensorflow/stream_executor/platform/default/dso_loader.cc:64] Could not load dynamic library 'libnvinfer.so.7'; dlerror: libnvinfer.so.7: cannot open shared object file: No such file or directory; LD_LIBRARY_PATH: :/home/zach/miniconda3/envs/tf/lib/:/home/zach/miniconda3/envs/tf/lib/python3.10/site-packages/nvidia/cudnn/lib\n",
      "2023-11-30 18:19:08.794390: W tensorflow/stream_executor/platform/default/dso_loader.cc:64] Could not load dynamic library 'libnvinfer_plugin.so.7'; dlerror: libnvinfer_plugin.so.7: cannot open shared object file: No such file or directory; LD_LIBRARY_PATH: :/home/zach/miniconda3/envs/tf/lib/:/home/zach/miniconda3/envs/tf/lib/python3.10/site-packages/nvidia/cudnn/lib\n",
      "2023-11-30 18:19:08.794394: W tensorflow/compiler/tf2tensorrt/utils/py_utils.cc:38] TF-TRT Warning: Cannot dlopen some TensorRT libraries. If you would like to use Nvidia GPU with TensorRT, please make sure the missing libraries mentioned above are installed properly.\n"
     ]
    }
   ],
   "source": [
    "import numpy as np\n",
    "import tensorflow as tf\n",
    "from tensorflow import keras"
   ]
  },
  {
   "cell_type": "markdown",
   "metadata": {},
   "source": [
    "### Squeezenet"
   ]
  },
  {
   "cell_type": "code",
   "execution_count": 2,
   "metadata": {},
   "outputs": [
    {
     "name": "stdout",
     "output_type": "stream",
     "text": [
      "/bin/bash: /home/zach/miniconda3/envs/tf/lib/libtinfo.so.6: no version information available (required by /bin/bash)\n",
      "Collecting git+https://github.com/rcmalli/keras-squeezenet.git\n",
      "  Cloning https://github.com/rcmalli/keras-squeezenet.git to /tmp/pip-req-build-xksbhphy\n",
      "  Running command git clone --filter=blob:none --quiet https://github.com/rcmalli/keras-squeezenet.git /tmp/pip-req-build-xksbhphy\n",
      "  Resolved https://github.com/rcmalli/keras-squeezenet.git to commit 4fb9cb7510ea0315303090edbc1bd97c2916af81\n",
      "  Preparing metadata (setup.py) ... \u001b[?25ldone\n",
      "\u001b[?25hRequirement already satisfied: numpy>=1.9.1 in /home/zach/miniconda3/envs/tf/lib/python3.10/site-packages (from keras-squeezenet==0.4) (1.23.5)\n",
      "Requirement already satisfied: scipy>=0.14 in /home/zach/miniconda3/envs/tf/lib/python3.10/site-packages (from keras-squeezenet==0.4) (1.10.1)\n",
      "Requirement already satisfied: h5py in /home/zach/miniconda3/envs/tf/lib/python3.10/site-packages (from keras-squeezenet==0.4) (3.10.0)\n",
      "Requirement already satisfied: tensorflow in /home/zach/miniconda3/envs/tf/lib/python3.10/site-packages (from keras-squeezenet==0.4) (2.10.0)\n",
      "Requirement already satisfied: keras in /home/zach/miniconda3/envs/tf/lib/python3.10/site-packages (from keras-squeezenet==0.4) (2.10.0)\n",
      "Requirement already satisfied: six>=1.9.0 in /home/zach/miniconda3/envs/tf/lib/python3.10/site-packages (from keras-squeezenet==0.4) (1.16.0)\n",
      "Requirement already satisfied: pyyaml in /home/zach/miniconda3/envs/tf/lib/python3.10/site-packages (from keras-squeezenet==0.4) (6.0.1)\n",
      "Requirement already satisfied: absl-py>=1.0.0 in /home/zach/miniconda3/envs/tf/lib/python3.10/site-packages (from tensorflow->keras-squeezenet==0.4) (1.4.0)\n",
      "Requirement already satisfied: astunparse>=1.6.0 in /home/zach/miniconda3/envs/tf/lib/python3.10/site-packages (from tensorflow->keras-squeezenet==0.4) (1.6.3)\n",
      "Requirement already satisfied: flatbuffers>=2.0 in /home/zach/miniconda3/envs/tf/lib/python3.10/site-packages (from tensorflow->keras-squeezenet==0.4) (23.5.26)\n",
      "Requirement already satisfied: gast<=0.4.0,>=0.2.1 in /home/zach/miniconda3/envs/tf/lib/python3.10/site-packages (from tensorflow->keras-squeezenet==0.4) (0.4.0)\n",
      "Requirement already satisfied: google-pasta>=0.1.1 in /home/zach/miniconda3/envs/tf/lib/python3.10/site-packages (from tensorflow->keras-squeezenet==0.4) (0.2.0)\n",
      "Requirement already satisfied: grpcio<2.0,>=1.24.3 in /home/zach/miniconda3/envs/tf/lib/python3.10/site-packages (from tensorflow->keras-squeezenet==0.4) (1.59.0)\n",
      "Requirement already satisfied: keras-preprocessing>=1.1.1 in /home/zach/miniconda3/envs/tf/lib/python3.10/site-packages (from tensorflow->keras-squeezenet==0.4) (1.1.2)\n",
      "Requirement already satisfied: libclang>=13.0.0 in /home/zach/miniconda3/envs/tf/lib/python3.10/site-packages (from tensorflow->keras-squeezenet==0.4) (16.0.6)\n",
      "Requirement already satisfied: opt-einsum>=2.3.2 in /home/zach/miniconda3/envs/tf/lib/python3.10/site-packages (from tensorflow->keras-squeezenet==0.4) (3.3.0)\n",
      "Requirement already satisfied: packaging in /home/zach/miniconda3/envs/tf/lib/python3.10/site-packages (from tensorflow->keras-squeezenet==0.4) (23.2)\n",
      "Requirement already satisfied: protobuf<3.20,>=3.9.2 in /home/zach/miniconda3/envs/tf/lib/python3.10/site-packages (from tensorflow->keras-squeezenet==0.4) (3.19.6)\n",
      "Requirement already satisfied: setuptools in /home/zach/miniconda3/envs/tf/lib/python3.10/site-packages (from tensorflow->keras-squeezenet==0.4) (68.2.2)\n",
      "Requirement already satisfied: tensorboard<2.11,>=2.10 in /home/zach/miniconda3/envs/tf/lib/python3.10/site-packages (from tensorflow->keras-squeezenet==0.4) (2.10.1)\n",
      "Requirement already satisfied: tensorflow-io-gcs-filesystem>=0.23.1 in /home/zach/miniconda3/envs/tf/lib/python3.10/site-packages (from tensorflow->keras-squeezenet==0.4) (0.34.0)\n",
      "Requirement already satisfied: tensorflow-estimator<2.11,>=2.10.0 in /home/zach/miniconda3/envs/tf/lib/python3.10/site-packages (from tensorflow->keras-squeezenet==0.4) (2.10.0)\n",
      "Requirement already satisfied: termcolor>=1.1.0 in /home/zach/miniconda3/envs/tf/lib/python3.10/site-packages (from tensorflow->keras-squeezenet==0.4) (2.3.0)\n",
      "Requirement already satisfied: typing-extensions>=3.6.6 in /home/zach/miniconda3/envs/tf/lib/python3.10/site-packages (from tensorflow->keras-squeezenet==0.4) (4.8.0)\n",
      "Requirement already satisfied: wrapt>=1.11.0 in /home/zach/miniconda3/envs/tf/lib/python3.10/site-packages (from tensorflow->keras-squeezenet==0.4) (1.15.0)\n",
      "Requirement already satisfied: wheel<1.0,>=0.23.0 in /home/zach/miniconda3/envs/tf/lib/python3.10/site-packages (from astunparse>=1.6.0->tensorflow->keras-squeezenet==0.4) (0.41.3)\n",
      "Requirement already satisfied: google-auth<3,>=1.6.3 in /home/zach/miniconda3/envs/tf/lib/python3.10/site-packages (from tensorboard<2.11,>=2.10->tensorflow->keras-squeezenet==0.4) (2.23.3)\n",
      "Requirement already satisfied: google-auth-oauthlib<0.5,>=0.4.1 in /home/zach/miniconda3/envs/tf/lib/python3.10/site-packages (from tensorboard<2.11,>=2.10->tensorflow->keras-squeezenet==0.4) (0.4.6)\n",
      "Requirement already satisfied: markdown>=2.6.8 in /home/zach/miniconda3/envs/tf/lib/python3.10/site-packages (from tensorboard<2.11,>=2.10->tensorflow->keras-squeezenet==0.4) (3.5)\n",
      "Requirement already satisfied: requests<3,>=2.21.0 in /home/zach/miniconda3/envs/tf/lib/python3.10/site-packages (from tensorboard<2.11,>=2.10->tensorflow->keras-squeezenet==0.4) (2.31.0)\n",
      "Requirement already satisfied: tensorboard-data-server<0.7.0,>=0.6.0 in /home/zach/miniconda3/envs/tf/lib/python3.10/site-packages (from tensorboard<2.11,>=2.10->tensorflow->keras-squeezenet==0.4) (0.6.1)\n",
      "Requirement already satisfied: tensorboard-plugin-wit>=1.6.0 in /home/zach/miniconda3/envs/tf/lib/python3.10/site-packages (from tensorboard<2.11,>=2.10->tensorflow->keras-squeezenet==0.4) (1.8.1)\n",
      "Requirement already satisfied: werkzeug>=1.0.1 in /home/zach/miniconda3/envs/tf/lib/python3.10/site-packages (from tensorboard<2.11,>=2.10->tensorflow->keras-squeezenet==0.4) (3.0.1)\n",
      "Requirement already satisfied: cachetools<6.0,>=2.0.0 in /home/zach/miniconda3/envs/tf/lib/python3.10/site-packages (from google-auth<3,>=1.6.3->tensorboard<2.11,>=2.10->tensorflow->keras-squeezenet==0.4) (5.3.2)\n",
      "Requirement already satisfied: pyasn1-modules>=0.2.1 in /home/zach/miniconda3/envs/tf/lib/python3.10/site-packages (from google-auth<3,>=1.6.3->tensorboard<2.11,>=2.10->tensorflow->keras-squeezenet==0.4) (0.3.0)\n",
      "Requirement already satisfied: rsa<5,>=3.1.4 in /home/zach/miniconda3/envs/tf/lib/python3.10/site-packages (from google-auth<3,>=1.6.3->tensorboard<2.11,>=2.10->tensorflow->keras-squeezenet==0.4) (4.9)\n",
      "Requirement already satisfied: requests-oauthlib>=0.7.0 in /home/zach/miniconda3/envs/tf/lib/python3.10/site-packages (from google-auth-oauthlib<0.5,>=0.4.1->tensorboard<2.11,>=2.10->tensorflow->keras-squeezenet==0.4) (1.3.1)\n",
      "Requirement already satisfied: charset-normalizer<4,>=2 in /home/zach/miniconda3/envs/tf/lib/python3.10/site-packages (from requests<3,>=2.21.0->tensorboard<2.11,>=2.10->tensorflow->keras-squeezenet==0.4) (3.3.1)\n",
      "Requirement already satisfied: idna<4,>=2.5 in /home/zach/miniconda3/envs/tf/lib/python3.10/site-packages (from requests<3,>=2.21.0->tensorboard<2.11,>=2.10->tensorflow->keras-squeezenet==0.4) (3.4)\n",
      "Requirement already satisfied: urllib3<3,>=1.21.1 in /home/zach/miniconda3/envs/tf/lib/python3.10/site-packages (from requests<3,>=2.21.0->tensorboard<2.11,>=2.10->tensorflow->keras-squeezenet==0.4) (2.0.7)\n",
      "Requirement already satisfied: certifi>=2017.4.17 in /home/zach/miniconda3/envs/tf/lib/python3.10/site-packages (from requests<3,>=2.21.0->tensorboard<2.11,>=2.10->tensorflow->keras-squeezenet==0.4) (2023.7.22)\n",
      "Requirement already satisfied: MarkupSafe>=2.1.1 in /home/zach/miniconda3/envs/tf/lib/python3.10/site-packages (from werkzeug>=1.0.1->tensorboard<2.11,>=2.10->tensorflow->keras-squeezenet==0.4) (2.1.3)\n",
      "Requirement already satisfied: pyasn1<0.6.0,>=0.4.6 in /home/zach/miniconda3/envs/tf/lib/python3.10/site-packages (from pyasn1-modules>=0.2.1->google-auth<3,>=1.6.3->tensorboard<2.11,>=2.10->tensorflow->keras-squeezenet==0.4) (0.5.0)\n",
      "Requirement already satisfied: oauthlib>=3.0.0 in /home/zach/miniconda3/envs/tf/lib/python3.10/site-packages (from requests-oauthlib>=0.7.0->google-auth-oauthlib<0.5,>=0.4.1->tensorboard<2.11,>=2.10->tensorflow->keras-squeezenet==0.4) (3.2.2)\n",
      "Note: you may need to restart the kernel to use updated packages.\n"
     ]
    }
   ],
   "source": [
    "%pip install git+https://github.com/rcmalli/keras-squeezenet.git"
   ]
  },
  {
   "cell_type": "markdown",
   "metadata": {},
   "source": [
    "### Comparing Feature Extraction Models\n",
    "- mobilenet\n",
    "- resnet\n",
    "- densenet\n",
    "- efficientnet\n",
    "- vgg19"
   ]
  },
  {
   "cell_type": "code",
   "execution_count": 3,
   "metadata": {},
   "outputs": [],
   "source": [
    "# Common imports\n",
    "import numpy as np\n",
    "import time\n",
    "import os\n",
    "from tensorflow.keras.preprocessing import image\n",
    "from tensorflow.keras.models import Model\n",
    "\n",
    "# Each model's specific import and preprocess_input\n",
    "from tensorflow.keras.applications import mobilenet, resnet, densenet, efficientnet, vgg19\n",
    "# from keras_squeezenet import SqueezeNet\n",
    "\n",
    "# Function to load and preprocess the image\n",
    "def load_and_preprocess_image(img_path, model_name):\n",
    "    target_size = (224, 224)  # default target size for most models\n",
    "    img = image.load_img(img_path, target_size=target_size)\n",
    "    img = image.img_to_array(img)\n",
    "    \n",
    "    # Preprocess input based on model\n",
    "    if model_name == 'mobilenet':\n",
    "        img = mobilenet.preprocess_input(img)\n",
    "    elif model_name == 'resnet':\n",
    "        img = resnet.preprocess_input(img)\n",
    "    elif model_name == 'densenet':\n",
    "        img = densenet.preprocess_input(img)\n",
    "    elif model_name == 'efficientnet':\n",
    "        img = efficientnet.preprocess_input(img)\n",
    "    elif model_name == 'vgg19':\n",
    "        img = vgg19.preprocess_input(img)\n",
    "    \n",
    "    img = np.expand_dims(img, axis=0)  # Add batch dimension\n",
    "    return img\n",
    "\n",
    "# Function to create a model for feature extraction\n",
    "def create_feature_model(model_name):\n",
    "    if model_name == 'mobilenet':\n",
    "        base_model = mobilenet.MobileNet(weights='imagenet', include_top=False)\n",
    "    elif model_name == 'resnet':\n",
    "        base_model = resnet.ResNet50(weights='imagenet', include_top=False)\n",
    "    elif model_name == 'densenet':\n",
    "        base_model = densenet.DenseNet121(weights='imagenet', include_top=False)\n",
    "    elif model_name == 'efficientnet':\n",
    "        base_model = efficientnet.EfficientNetB0(weights='imagenet', include_top=False)\n",
    "    elif model_name == 'vgg19':\n",
    "        base_model = vgg19.VGG19(weights='imagenet', include_top=False)\n",
    "    # Pooling\n",
    "    # x = base_model.output\n",
    "    # x = GlobalAveragePooling2D()(x)\n",
    "    # feature_model = Model(inputs=base_model.input, outputs=x)\n",
    "    feature_model = Model(inputs=base_model.input, outputs=base_model.output)\n",
    "    return feature_model\n",
    "\n",
    "# Feature extraction for an image\n",
    "def extract_features(img_path, feature_model, model_name):\n",
    "    img = load_and_preprocess_image(img_path, model_name)\n",
    "    features = feature_model.predict(img)\n",
    "    return features\n"
   ]
  },
  {
   "cell_type": "code",
   "execution_count": 4,
   "metadata": {},
   "outputs": [
    {
     "name": "stdout",
     "output_type": "stream",
     "text": [
      "WARNING:tensorflow:`input_shape` is undefined or non-square, or `rows` is not in [128, 160, 192, 224]. Weights for input shape (224, 224) will be loaded as the default.\n"
     ]
    },
    {
     "name": "stderr",
     "output_type": "stream",
     "text": [
      "2023-11-30 18:19:12.501938: I tensorflow/stream_executor/cuda/cuda_gpu_executor.cc:980] successful NUMA node read from SysFS had negative value (-1), but there must be at least one NUMA node, so returning NUMA node zero\n",
      "2023-11-30 18:19:12.516589: I tensorflow/stream_executor/cuda/cuda_gpu_executor.cc:980] successful NUMA node read from SysFS had negative value (-1), but there must be at least one NUMA node, so returning NUMA node zero\n",
      "2023-11-30 18:19:12.516743: I tensorflow/stream_executor/cuda/cuda_gpu_executor.cc:980] successful NUMA node read from SysFS had negative value (-1), but there must be at least one NUMA node, so returning NUMA node zero\n",
      "2023-11-30 18:19:12.517144: I tensorflow/core/platform/cpu_feature_guard.cc:193] This TensorFlow binary is optimized with oneAPI Deep Neural Network Library (oneDNN) to use the following CPU instructions in performance-critical operations:  AVX2 FMA\n",
      "To enable them in other operations, rebuild TensorFlow with the appropriate compiler flags.\n",
      "2023-11-30 18:19:12.517626: I tensorflow/stream_executor/cuda/cuda_gpu_executor.cc:980] successful NUMA node read from SysFS had negative value (-1), but there must be at least one NUMA node, so returning NUMA node zero\n",
      "2023-11-30 18:19:12.517737: I tensorflow/stream_executor/cuda/cuda_gpu_executor.cc:980] successful NUMA node read from SysFS had negative value (-1), but there must be at least one NUMA node, so returning NUMA node zero\n",
      "2023-11-30 18:19:12.517828: I tensorflow/stream_executor/cuda/cuda_gpu_executor.cc:980] successful NUMA node read from SysFS had negative value (-1), but there must be at least one NUMA node, so returning NUMA node zero\n",
      "2023-11-30 18:19:12.835594: I tensorflow/stream_executor/cuda/cuda_gpu_executor.cc:980] successful NUMA node read from SysFS had negative value (-1), but there must be at least one NUMA node, so returning NUMA node zero\n",
      "2023-11-30 18:19:12.835849: I tensorflow/stream_executor/cuda/cuda_gpu_executor.cc:980] successful NUMA node read from SysFS had negative value (-1), but there must be at least one NUMA node, so returning NUMA node zero\n",
      "2023-11-30 18:19:12.836147: I tensorflow/stream_executor/cuda/cuda_gpu_executor.cc:980] successful NUMA node read from SysFS had negative value (-1), but there must be at least one NUMA node, so returning NUMA node zero\n",
      "2023-11-30 18:19:12.836230: I tensorflow/core/common_runtime/gpu/gpu_device.cc:1616] Created device /job:localhost/replica:0/task:0/device:GPU:0 with 7683 MB memory:  -> device: 0, name: NVIDIA GeForce RTX 3080, pci bus id: 0000:2b:00.0, compute capability: 8.6\n",
      "2023-11-30 18:19:14.067577: I tensorflow/stream_executor/cuda/cuda_dnn.cc:384] Loaded cuDNN version 8600\n"
     ]
    },
    {
     "name": "stdout",
     "output_type": "stream",
     "text": [
      "1/1 [==============================] - 1s 1s/step\n",
      "1/1 [==============================] - 0s 11ms/step\n",
      "1/1 [==============================] - 0s 10ms/step\n",
      "1/1 [==============================] - 0s 10ms/step\n",
      "1/1 [==============================] - 0s 10ms/step\n",
      "1/1 [==============================] - 0s 10ms/step\n",
      "1/1 [==============================] - 0s 10ms/step\n"
     ]
    },
    {
     "name": "stderr",
     "output_type": "stream",
     "text": [
      "2023-11-30 18:19:14.423213: I tensorflow/core/platform/default/subprocess.cc:304] Start cannot spawn child process: No such file or directory\n",
      "2023-11-30 18:19:14.449018: I tensorflow/stream_executor/cuda/cuda_blas.cc:1614] TensorFloat-32 will be used for the matrix multiplication. This will only be logged once.\n"
     ]
    },
    {
     "name": "stdout",
     "output_type": "stream",
     "text": [
      "1/1 [==============================] - 0s 10ms/step\n",
      "1/1 [==============================] - 0s 11ms/step\n",
      "1/1 [==============================] - 0s 11ms/step\n",
      "mobilenet took 1.48 seconds\n",
      "1/1 [==============================] - 0s 490ms/step\n",
      "1/1 [==============================] - 0s 16ms/step\n",
      "1/1 [==============================] - 0s 15ms/step\n",
      "1/1 [==============================] - 0s 15ms/step\n",
      "1/1 [==============================] - 0s 16ms/step\n",
      "1/1 [==============================] - 0s 14ms/step\n",
      "1/1 [==============================] - 0s 14ms/step\n",
      "1/1 [==============================] - 0s 13ms/step\n",
      "1/1 [==============================] - 0s 13ms/step\n",
      "1/1 [==============================] - 0s 14ms/step\n",
      "resnet took 0.82 seconds\n",
      "1/1 [==============================] - 1s 948ms/step\n",
      "1/1 [==============================] - 0s 17ms/step\n",
      "1/1 [==============================] - 0s 17ms/step\n",
      "1/1 [==============================] - 0s 17ms/step\n",
      "1/1 [==============================] - 0s 17ms/step\n",
      "1/1 [==============================] - 0s 17ms/step\n",
      "1/1 [==============================] - 0s 17ms/step\n",
      "1/1 [==============================] - 0s 17ms/step\n",
      "1/1 [==============================] - 0s 21ms/step\n",
      "1/1 [==============================] - 0s 17ms/step\n",
      "densenet took 1.30 seconds\n",
      "1/1 [==============================] - 1s 570ms/step\n",
      "1/1 [==============================] - 0s 13ms/step\n",
      "1/1 [==============================] - 0s 12ms/step\n",
      "1/1 [==============================] - 0s 12ms/step\n",
      "1/1 [==============================] - 0s 12ms/step\n",
      "1/1 [==============================] - 0s 12ms/step\n",
      "1/1 [==============================] - 0s 12ms/step\n",
      "1/1 [==============================] - 0s 12ms/step\n",
      "1/1 [==============================] - 0s 12ms/step\n",
      "1/1 [==============================] - 0s 13ms/step\n",
      "efficientnet took 0.85 seconds\n",
      "1/1 [==============================] - 0s 310ms/step\n",
      "1/1 [==============================] - 0s 10ms/step\n",
      "1/1 [==============================] - 0s 10ms/step\n",
      "1/1 [==============================] - 0s 11ms/step\n",
      "1/1 [==============================] - 0s 11ms/step\n",
      "1/1 [==============================] - 0s 11ms/step\n",
      "1/1 [==============================] - 0s 11ms/step\n",
      "1/1 [==============================] - 0s 11ms/step\n",
      "1/1 [==============================] - 0s 11ms/step\n",
      "1/1 [==============================] - 0s 11ms/step\n",
      "vgg19 took 0.58 seconds\n",
      "mobilenet: 1.48 seconds\n",
      "resnet: 0.82 seconds\n",
      "densenet: 1.30 seconds\n",
      "efficientnet: 0.85 seconds\n",
      "vgg19: 0.58 seconds\n",
      "The fastest model is vgg19 with 0.58 seconds.\n"
     ]
    }
   ],
   "source": [
    "img_dir = \"dataset/objects/train_2562\"  \n",
    "test_image_paths = [os.path.join(img_dir, f) for f in os.listdir(img_dir)[:10]]  \n",
    "\n",
    "model_names = ['mobilenet', 'resnet', 'densenet', 'efficientnet', 'vgg19']\n",
    "times = {}\n",
    "\n",
    "for model_name in model_names:\n",
    "    feature_model = create_feature_model(model_name)\n",
    "    \n",
    "    start_time = time.time()\n",
    "    for img_path in test_image_paths:\n",
    "        _ = extract_features(img_path, feature_model, model_name)\n",
    "    end_time = time.time()\n",
    "    \n",
    "    duration = end_time - start_time\n",
    "    times[model_name] = duration\n",
    "    print(f\"{model_name} took {duration:.2f} seconds\")\n",
    "\n",
    "# Compare speeds\n",
    "for model_name, duration in times.items():\n",
    "    print(f\"{model_name}: {duration:.2f} seconds\")\n",
    "\n",
    "# Find fastest model\n",
    "fastest_model = min(times, key=times.get)\n",
    "print(f\"The fastest model is {fastest_model} with {times[fastest_model]:.2f} seconds.\")"
   ]
  },
  {
   "cell_type": "markdown",
   "metadata": {},
   "source": [
    "### Using MobileNet"
   ]
  },
  {
   "cell_type": "code",
   "execution_count": 5,
   "metadata": {},
   "outputs": [
    {
     "name": "stdout",
     "output_type": "stream",
     "text": [
      "WARNING:tensorflow:`input_shape` is undefined or non-square, or `rows` is not in [96, 128, 160, 192, 224]. Weights for input shape (224, 224) will be loaded as the default.\n"
     ]
    }
   ],
   "source": [
    "from tensorflow.keras.applications import mobilenet_v2\n",
    "model = mobilenet_v2.MobileNetV2(weights='imagenet', include_top=False, pooling='avg') "
   ]
  },
  {
   "cell_type": "markdown",
   "metadata": {},
   "source": [
    "## Feature Extraction"
   ]
  },
  {
   "cell_type": "code",
   "execution_count": 6,
   "metadata": {},
   "outputs": [],
   "source": [
    "def extract_mobilenet_features(image_path, model):\n",
    "    # Load and preprocess the image\n",
    "    img = image.load_img(image_path, target_size=(224, 224))  # size 224x224\n",
    "    img = image.img_to_array(img)\n",
    "    img = mobilenet_v2.preprocess_input(img)\n",
    "    img = np.expand_dims(img, axis=0)\n",
    "\n",
    "    # Extract features\n",
    "    features = model.predict(img)\n",
    "\n",
    "    return features"
   ]
  },
  {
   "cell_type": "code",
   "execution_count": 7,
   "metadata": {},
   "outputs": [
    {
     "name": "stdout",
     "output_type": "stream",
     "text": [
      "1/1 [==============================] - 0s 333ms/step\n",
      "1/1 [==============================] - 0s 12ms/step\n",
      "1/1 [==============================] - 0s 11ms/step\n",
      "1/1 [==============================] - 0s 11ms/step\n",
      "1/1 [==============================] - 0s 11ms/step\n",
      "1/1 [==============================] - 0s 11ms/step\n",
      "1/1 [==============================] - 0s 11ms/step\n",
      "1/1 [==============================] - 0s 11ms/step\n",
      "1/1 [==============================] - 0s 11ms/step\n",
      "1/1 [==============================] - 0s 12ms/step\n",
      "1/1 [==============================] - 0s 12ms/step\n",
      "1/1 [==============================] - 0s 11ms/step\n",
      "1/1 [==============================] - 0s 11ms/step\n",
      "1/1 [==============================] - 0s 11ms/step\n",
      "1/1 [==============================] - 0s 11ms/step\n",
      "1/1 [==============================] - 0s 11ms/step\n",
      "1/1 [==============================] - 0s 11ms/step\n",
      "1/1 [==============================] - 0s 11ms/step\n",
      "1/1 [==============================] - 0s 12ms/step\n",
      "1/1 [==============================] - 0s 12ms/step\n",
      "1/1 [==============================] - 0s 11ms/step\n",
      "1/1 [==============================] - 0s 11ms/step\n",
      "1/1 [==============================] - 0s 11ms/step\n",
      "1/1 [==============================] - 0s 11ms/step\n",
      "1/1 [==============================] - 0s 11ms/step\n",
      "1/1 [==============================] - 0s 11ms/step\n",
      "1/1 [==============================] - 0s 11ms/step\n",
      "1/1 [==============================] - 0s 11ms/step\n",
      "1/1 [==============================] - 0s 11ms/step\n",
      "1/1 [==============================] - 0s 14ms/step\n",
      "1/1 [==============================] - 0s 14ms/step\n",
      "1/1 [==============================] - 0s 13ms/step\n",
      "1/1 [==============================] - 0s 13ms/step\n",
      "1/1 [==============================] - 0s 13ms/step\n",
      "1/1 [==============================] - 0s 13ms/step\n",
      "1/1 [==============================] - 0s 12ms/step\n",
      "1/1 [==============================] - 0s 12ms/step\n",
      "1/1 [==============================] - 0s 12ms/step\n",
      "1/1 [==============================] - 0s 13ms/step\n",
      "1/1 [==============================] - 0s 13ms/step\n",
      "1/1 [==============================] - 0s 13ms/step\n",
      "1/1 [==============================] - 0s 12ms/step\n",
      "1/1 [==============================] - 0s 12ms/step\n",
      "1/1 [==============================] - 0s 12ms/step\n",
      "1/1 [==============================] - 0s 12ms/step\n",
      "1/1 [==============================] - 0s 12ms/step\n",
      "1/1 [==============================] - 0s 12ms/step\n",
      "1/1 [==============================] - 0s 13ms/step\n",
      "1/1 [==============================] - 0s 12ms/step\n",
      "1/1 [==============================] - 0s 12ms/step\n",
      "1/1 [==============================] - 0s 12ms/step\n",
      "1/1 [==============================] - 0s 12ms/step\n",
      "1/1 [==============================] - 0s 12ms/step\n",
      "1/1 [==============================] - 0s 12ms/step\n",
      "1/1 [==============================] - 0s 12ms/step\n",
      "1/1 [==============================] - 0s 12ms/step\n",
      "1/1 [==============================] - 0s 13ms/step\n",
      "1/1 [==============================] - 0s 12ms/step\n",
      "1/1 [==============================] - 0s 12ms/step\n",
      "1/1 [==============================] - 0s 12ms/step\n",
      "1/1 [==============================] - 0s 12ms/step\n",
      "1/1 [==============================] - 0s 12ms/step\n",
      "1/1 [==============================] - 0s 12ms/step\n",
      "1/1 [==============================] - 0s 12ms/step\n",
      "1/1 [==============================] - 0s 12ms/step\n",
      "1/1 [==============================] - 0s 12ms/step\n",
      "1/1 [==============================] - 0s 12ms/step\n",
      "1/1 [==============================] - 0s 12ms/step\n",
      "1/1 [==============================] - 0s 14ms/step\n",
      "1/1 [==============================] - 0s 12ms/step\n",
      "1/1 [==============================] - 0s 12ms/step\n",
      "1/1 [==============================] - 0s 12ms/step\n",
      "1/1 [==============================] - 0s 12ms/step\n",
      "1/1 [==============================] - 0s 11ms/step\n",
      "1/1 [==============================] - 0s 12ms/step\n",
      "1/1 [==============================] - 0s 12ms/step\n",
      "1/1 [==============================] - 0s 12ms/step\n",
      "1/1 [==============================] - 0s 15ms/step\n",
      "1/1 [==============================] - 0s 12ms/step\n",
      "1/1 [==============================] - 0s 12ms/step\n",
      "1/1 [==============================] - 0s 12ms/step\n",
      "1/1 [==============================] - 0s 12ms/step\n",
      "1/1 [==============================] - 0s 12ms/step\n",
      "1/1 [==============================] - 0s 12ms/step\n",
      "1/1 [==============================] - 0s 12ms/step\n",
      "1/1 [==============================] - 0s 12ms/step\n",
      "1/1 [==============================] - 0s 11ms/step\n",
      "1/1 [==============================] - 0s 12ms/step\n",
      "1/1 [==============================] - 0s 12ms/step\n",
      "1/1 [==============================] - 0s 12ms/step\n",
      "1/1 [==============================] - 0s 11ms/step\n",
      "1/1 [==============================] - 0s 11ms/step\n",
      "1/1 [==============================] - 0s 11ms/step\n",
      "1/1 [==============================] - 0s 12ms/step\n",
      "1/1 [==============================] - 0s 12ms/step\n",
      "1/1 [==============================] - 0s 12ms/step\n",
      "1/1 [==============================] - 0s 11ms/step\n",
      "1/1 [==============================] - 0s 11ms/step\n",
      "1/1 [==============================] - 0s 11ms/step\n",
      "1/1 [==============================] - 0s 11ms/step\n",
      "1/1 [==============================] - 0s 11ms/step\n",
      "1/1 [==============================] - 0s 11ms/step\n",
      "1/1 [==============================] - 0s 12ms/step\n",
      "1/1 [==============================] - 0s 12ms/step\n",
      "1/1 [==============================] - 0s 11ms/step\n",
      "1/1 [==============================] - 0s 11ms/step\n",
      "1/1 [==============================] - 0s 11ms/step\n",
      "1/1 [==============================] - 0s 11ms/step\n",
      "1/1 [==============================] - 0s 11ms/step\n",
      "1/1 [==============================] - 0s 11ms/step\n",
      "1/1 [==============================] - 0s 11ms/step\n",
      "1/1 [==============================] - 0s 12ms/step\n",
      "1/1 [==============================] - 0s 12ms/step\n",
      "1/1 [==============================] - 0s 13ms/step\n",
      "1/1 [==============================] - 0s 12ms/step\n",
      "1/1 [==============================] - 0s 12ms/step\n",
      "1/1 [==============================] - 0s 11ms/step\n",
      "1/1 [==============================] - 0s 11ms/step\n",
      "1/1 [==============================] - 0s 11ms/step\n",
      "1/1 [==============================] - 0s 11ms/step\n",
      "1/1 [==============================] - 0s 11ms/step\n",
      "1/1 [==============================] - 0s 12ms/step\n",
      "1/1 [==============================] - 0s 11ms/step\n",
      "1/1 [==============================] - 0s 11ms/step\n",
      "1/1 [==============================] - 0s 11ms/step\n",
      "1/1 [==============================] - 0s 11ms/step\n",
      "1/1 [==============================] - 0s 11ms/step\n",
      "1/1 [==============================] - 0s 11ms/step\n",
      "1/1 [==============================] - 0s 11ms/step\n",
      "1/1 [==============================] - 0s 11ms/step\n",
      "1/1 [==============================] - 0s 12ms/step\n",
      "1/1 [==============================] - 0s 11ms/step\n",
      "1/1 [==============================] - 0s 12ms/step\n",
      "1/1 [==============================] - 0s 11ms/step\n",
      "1/1 [==============================] - 0s 11ms/step\n",
      "1/1 [==============================] - 0s 11ms/step\n",
      "1/1 [==============================] - 0s 11ms/step\n",
      "1/1 [==============================] - 0s 11ms/step\n",
      "1/1 [==============================] - 0s 11ms/step\n",
      "1/1 [==============================] - 0s 11ms/step\n",
      "1/1 [==============================] - 0s 12ms/step\n",
      "1/1 [==============================] - 0s 11ms/step\n",
      "1/1 [==============================] - 0s 11ms/step\n",
      "1/1 [==============================] - 0s 11ms/step\n",
      "1/1 [==============================] - 0s 11ms/step\n",
      "1/1 [==============================] - 0s 11ms/step\n",
      "1/1 [==============================] - 0s 11ms/step\n",
      "1/1 [==============================] - 0s 11ms/step\n",
      "1/1 [==============================] - 0s 11ms/step\n",
      "1/1 [==============================] - 0s 12ms/step\n",
      "1/1 [==============================] - 0s 11ms/step\n",
      "1/1 [==============================] - 0s 11ms/step\n",
      "1/1 [==============================] - 0s 11ms/step\n",
      "1/1 [==============================] - 0s 11ms/step\n",
      "1/1 [==============================] - 0s 11ms/step\n",
      "1/1 [==============================] - 0s 12ms/step\n",
      "1/1 [==============================] - 0s 11ms/step\n",
      "1/1 [==============================] - 0s 11ms/step\n"
     ]
    }
   ],
   "source": [
    "img_dir = \"dataset/objects/train_2562\"\n",
    "\n",
    "features_dict = {}\n",
    "\n",
    "# Assuming that os.listdir(img_dir) returns a list of image filenames in img_dir\n",
    "for img_name in os.listdir(img_dir):\n",
    "    image_path = os.path.join(img_dir, img_name)\n",
    "    if image_path.lower().endswith(('.png', '.jpg', '.jpeg')):  # Check to ensure only images are processed\n",
    "        features_dict[img_name] = extract_mobilenet_features(image_path, model)"
   ]
  },
  {
   "cell_type": "markdown",
   "metadata": {},
   "source": [
    "### Dimensionality Reduction"
   ]
  },
  {
   "cell_type": "code",
   "execution_count": 8,
   "metadata": {},
   "outputs": [],
   "source": [
    "from sklearn.decomposition import PCA\n",
    "from sklearn.preprocessing import StandardScaler"
   ]
  },
  {
   "cell_type": "code",
   "execution_count": 9,
   "metadata": {},
   "outputs": [],
   "source": [
    "# Flatten features (if not already flattened by global average pooling -> pooling='avg')\n",
    "feature_vectors = np.array([features_dict[img_name].flatten() for img_name in features_dict.keys()])\n",
    "\n",
    "# Normalize features\n",
    "scaler = StandardScaler()\n",
    "feature_vectors_normalized = scaler.fit_transform(feature_vectors)\n",
    "\n",
    "# Perform PCA for dimensionality reduction\n",
    "pca = PCA(n_components=0.9)  # Keep 90% of the variance\n",
    "principal_components = pca.fit_transform(feature_vectors_normalized)"
   ]
  },
  {
   "cell_type": "code",
   "execution_count": 10,
   "metadata": {},
   "outputs": [
    {
     "name": "stdout",
     "output_type": "stream",
     "text": [
      "(158, 89)\n"
     ]
    }
   ],
   "source": [
    "print(principal_components.shape)"
   ]
  },
  {
   "cell_type": "markdown",
   "metadata": {},
   "source": [
    "### Comparing Dimensionality Reduction\n",
    "\n",
    "- PCA is designed for variance maximization and dimensionality reduction, so it naturally fits the goal of retaining a high percentage of the variance.\n",
    "- t-SNE does not retain variance in the same way PCA does. It's more suitable for visualization in two or three dimensions and does not provide an explained variance ratio.\n",
    "- UMAP is generally used for visualization and dimensionality reduction while preserving the data's local and global structure. It's a non-linear technique, which means it may reveal structures hidden to PCA but does not directly provide an explained variance ratio."
   ]
  },
  {
   "cell_type": "code",
   "execution_count": 11,
   "metadata": {},
   "outputs": [
    {
     "name": "stderr",
     "output_type": "stream",
     "text": [
      "/home/zach/miniconda3/envs/tf/lib/python3.10/site-packages/tqdm/auto.py:21: TqdmWarning: IProgress not found. Please update jupyter and ipywidgets. See https://ipywidgets.readthedocs.io/en/stable/user_install.html\n",
      "  from .autonotebook import tqdm as notebook_tqdm\n"
     ]
    },
    {
     "name": "stdout",
     "output_type": "stream",
     "text": [
      "Original feature size: 158 1280\n",
      "PCA reduced feature size: 158 89\n",
      "t-SNE reduced feature size (not directly comparable): 158 2\n",
      "UMAP reduced feature size: 158 3\n",
      "PCA explained variance ratio: [0.09139818 0.05472656 0.04616167 0.03900347 0.03329309 0.02956323\n",
      " 0.02636363 0.02448547 0.02229512 0.02118651 0.02073862 0.01879155\n",
      " 0.016582   0.01555348 0.01474516 0.01466676 0.01391463 0.01273887\n",
      " 0.01203309 0.01154856 0.01133615 0.01105017 0.0107749  0.01016405\n",
      " 0.00970528 0.00938504 0.00897842 0.00892542 0.00862486 0.00833179\n",
      " 0.00818484 0.00790672 0.0077444  0.00738372 0.00707304 0.0068808\n",
      " 0.0068574  0.00664174 0.00655957 0.00637274 0.00617264 0.00608117\n",
      " 0.00594537 0.00580664 0.0055973  0.00545077 0.0052107  0.00508988\n",
      " 0.00503997 0.00499805 0.00493937 0.00486348 0.00468501 0.00463246\n",
      " 0.00451308 0.00436075 0.00431179 0.00423149 0.00418855 0.00405581\n",
      " 0.00396753 0.00392062 0.00386195 0.00379205 0.003731   0.00369059\n",
      " 0.00366505 0.00362174 0.00352538 0.00346725 0.00335222 0.00330679\n",
      " 0.00329573 0.00322838 0.00317012 0.00315426 0.00304027 0.00301156\n",
      " 0.00295419 0.00294525 0.00287786 0.0027987  0.00274451 0.00271259\n",
      " 0.00268153 0.00263402 0.0025391  0.00250441 0.00244234]\n",
      "PCA cumulative explained variance: 0.901482\n"
     ]
    }
   ],
   "source": [
    "from sklearn.decomposition import PCA\n",
    "from sklearn.manifold import TSNE\n",
    "import umap.umap_ as umap\n",
    "from sklearn.preprocessing import StandardScaler\n",
    "\n",
    "# Assuming feature_vectors_normalized from the previous code block after StandardScaler\n",
    "\n",
    "# PCA Dimensionality Reduction\n",
    "pca = PCA(0.9)  # Keep 90% of the variance\n",
    "pca_result = pca.fit_transform(feature_vectors_normalized)\n",
    "\n",
    "# t-SNE Dimensionality Reduction - It does not have variance ratio\n",
    "# t-SNE is not typically used for variance retention comparison, and it's a stochastic method.\n",
    "# Therefore, it is more about visualization than retaining variance.\n",
    "# We perform t-SNE on PCA output to speed up the process, this is optional but recommended for large datasets\n",
    "tsne_result = TSNE(n_components=2, learning_rate='auto', init='pca').fit_transform(pca_result)\n",
    "\n",
    "# UMAP Dimensionality Reduction - It also doesn't work with explained variance\n",
    "# Instead, it works with neighbor graphs to preserve local and global structure.\n",
    "umap_result = umap.UMAP(n_neighbors=15, min_dist=0.1, n_components=3).fit_transform(feature_vectors_normalized)\n",
    "\n",
    "# Now, let's compare the shapes\n",
    "print('Original feature size:', feature_vectors_normalized.shape[0], feature_vectors_normalized.shape[1])\n",
    "print('PCA reduced feature size:', pca_result.shape[0], pca_result.shape[1])\n",
    "print('t-SNE reduced feature size (not directly comparable):', tsne_result.shape[0], tsne_result.shape[1])\n",
    "print('UMAP reduced feature size:', umap_result.shape[0], umap_result.shape[1])\n",
    "\n",
    "# Print the amount of variance that each component contributes\n",
    "print('PCA explained variance ratio:', pca.explained_variance_ratio_)\n",
    "\n",
    "# If you want to also check the actual size of the reduced data you can compare the sum of the explained_variance_ratio_\n",
    "print('PCA cumulative explained variance:', np.sum(pca.explained_variance_ratio_))\n"
   ]
  },
  {
   "cell_type": "code",
   "execution_count": 12,
   "metadata": {},
   "outputs": [
    {
     "name": "stderr",
     "output_type": "stream",
     "text": [
      "/home/zach/miniconda3/envs/tf/lib/python3.10/site-packages/umap/umap_.py:1943: UserWarning: n_jobs value -1 overridden to 1 by setting random_state. Use no seed for parallelism.\n",
      "  warn(f\"n_jobs value {self.n_jobs} overridden to 1 by setting random_state. Use no seed for parallelism.\")\n"
     ]
    }
   ],
   "source": [
    "import umap\n",
    "import numpy as np\n",
    "\n",
    "feature_list = [features for features in features_dict.values()]\n",
    "feature_matrix = np.array(feature_list).reshape(len(feature_list), -1) # Reshape to (n_samples, n_features) if necessary\n",
    "\n",
    "# Apply UMAP\n",
    "reducer = umap.UMAP(n_neighbors=15, n_components=2, metric='euclidean', random_state=42)\n",
    "embedding = reducer.fit_transform(feature_matrix)\n",
    "\n",
    "reduced_features = {name: emb for name, emb in zip(features_dict.keys(), embedding)}"
   ]
  },
  {
   "cell_type": "markdown",
   "metadata": {},
   "source": [
    "### Comparing Clustering Algorithms\n",
    "- DBSCAN (Density-Based Spatial Clustering of Applications with Noise): It can find arbitrarily shaped clusters and can have a notion of noise, which are points that don't fit well into any cluster.\n",
    "- HDBSCAN (Hierarchical DBSCAN): An extension of DBSCAN that converts it into a hierarchical clustering algorithm and enables it to find clusters of varying densities, which DBSCAN cannot do.\n",
    "- Mean Shift: It doesn't require the specification of the number of clusters, as it automatically finds clusters based on data density. However, it does require bandwidth parameter selection, which indirectly influences the number of clusters.\n",
    "- Affinity Propagation: It uses message passing between data points to create clusters based on their similarity. It does not require the number of clusters to be specified and can yield a varying number of clusters based on the input data and preferences parameter."
   ]
  },
  {
   "cell_type": "code",
   "execution_count": 13,
   "metadata": {},
   "outputs": [
    {
     "name": "stdout",
     "output_type": "stream",
     "text": [
      "Estimated number of clusters for DBSCAN: 5\n",
      "Estimated number of clusters for HDBSCAN: 6\n",
      "Estimated number of clusters for Mean Shift: 4\n",
      "Estimated number of clusters for Affinity Propagation: 9\n",
      "Silhouette Coefficient for DBSCAN: 0.495\n",
      "Silhouette Coefficient for HDBSCAN: 0.358\n",
      "Silhouette Coefficient for Mean Shift: 0.544\n",
      "Silhouette Coefficient for Affinity Propagation: 0.492\n"
     ]
    }
   ],
   "source": [
    "from sklearn.cluster import DBSCAN, MeanShift, estimate_bandwidth, AffinityPropagation\n",
    "import hdbscan\n",
    "from sklearn import metrics\n",
    "\n",
    "# 'reduced_features' to list of feature coordinates for clustering\n",
    "X = np.array(list(reduced_features.values()))\n",
    "\n",
    "# DBSCAN\n",
    "db = DBSCAN(eps=0.5, min_samples=5).fit(X)\n",
    "db_labels = db.labels_\n",
    "\n",
    "# HDBSCAN\n",
    "hdb = hdbscan.HDBSCAN(min_cluster_size=5).fit(X)\n",
    "hdb_labels = hdb.labels_\n",
    "\n",
    "# Mean Shift\n",
    "bandwidth = estimate_bandwidth(X, quantile=0.2)\n",
    "ms = MeanShift(bandwidth=bandwidth, bin_seeding=True).fit(X)\n",
    "ms_labels = ms.labels_\n",
    "\n",
    "# Affinity Propagation\n",
    "af = AffinityPropagation().fit(X)\n",
    "af_labels = af.labels_\n",
    "\n",
    "# Calculating the number of clusters for each algorithm\n",
    "n_clusters_db = len(set(db_labels)) - (1 if -1 in db_labels else 0)\n",
    "n_clusters_hdb = len(set(hdb_labels)) - (1 if -1 in hdb_labels else 0)\n",
    "n_clusters_ms = len(set(ms_labels))\n",
    "n_clusters_af = len(set(af_labels))\n",
    "\n",
    "print(f\"Estimated number of clusters for DBSCAN: {n_clusters_db}\")\n",
    "print(f\"Estimated number of clusters for HDBSCAN: {n_clusters_hdb}\")\n",
    "print(f\"Estimated number of clusters for Mean Shift: {n_clusters_ms}\")\n",
    "print(f\"Estimated number of clusters for Affinity Propagation: {n_clusters_af}\")\n",
    "\n",
    "# measure of how similar an object is to its own cluster (cohesion) compared to other clusters (separation)\n",
    "silhouette_db = metrics.silhouette_score(X, db_labels) if n_clusters_db > 1 else -1\n",
    "silhouette_hdb = metrics.silhouette_score(X, hdb_labels) if n_clusters_hdb > 1 else -1\n",
    "silhouette_ms = metrics.silhouette_score(X, ms_labels) if n_clusters_ms > 1 else -1\n",
    "silhouette_af = metrics.silhouette_score(X, af_labels) if n_clusters_af > 1 else -1\n",
    "\n",
    "print(f\"Silhouette Coefficient for DBSCAN: {silhouette_db:.3f}\")\n",
    "print(f\"Silhouette Coefficient for HDBSCAN: {silhouette_hdb:.3f}\")\n",
    "print(f\"Silhouette Coefficient for Mean Shift: {silhouette_ms:.3f}\")\n",
    "print(f\"Silhouette Coefficient for Affinity Propagation: {silhouette_af:.3f}\")\n"
   ]
  },
  {
   "cell_type": "code",
   "execution_count": 14,
   "metadata": {},
   "outputs": [
    {
     "name": "stdout",
     "output_type": "stream",
     "text": [
      "Inventory count for each object type (cluster):\n",
      "Object type (Cluster 0) instances: 30\n",
      "Object type (Cluster 1) instances: 34\n",
      "Noise (unclustered) instances: 11\n",
      "Object type (Cluster 2) instances: 25\n",
      "Object type (Cluster 3) instances: 20\n",
      "Object type (Cluster 4) instances: 38\n"
     ]
    }
   ],
   "source": [
    "import os\n",
    "import shutil\n",
    "\n",
    "cluster_dir_base = os.path.join(img_dir, 'clusters')\n",
    "os.makedirs(cluster_dir_base, exist_ok=True)\n",
    "\n",
    "inventory_count = {}\n",
    "\n",
    "for img_name, cluster_label in zip(features_dict.keys(), db_labels):\n",
    "    if cluster_label == -1:\n",
    "        # -1 for noise points\n",
    "        cluster_path = os.path.join(cluster_dir_base, 'noise')\n",
    "    else:\n",
    "        cluster_path = os.path.join(cluster_dir_base, f'cluster_{cluster_label}')\n",
    "    \n",
    "    os.makedirs(cluster_path, exist_ok=True)\n",
    "    \n",
    "    source = os.path.join(img_dir, img_name)\n",
    "    destination = os.path.join(cluster_path, img_name)\n",
    "    shutil.copy(source, destination)\n",
    "    \n",
    "    inventory_count[cluster_label] = inventory_count.get(cluster_label, 0) + 1\n",
    "\n",
    "# Inventory count for each cluster\n",
    "print(\"Inventory count for each object type (cluster):\")\n",
    "for cluster_label, count in inventory_count.items():\n",
    "    if cluster_label == -1:\n",
    "        print(f\"Noise (unclustered) instances: {count}\")\n",
    "    else:\n",
    "        print(f\"Object type (Cluster {cluster_label}) instances: {count}\")\n"
   ]
  },
  {
   "cell_type": "code",
   "execution_count": null,
   "metadata": {},
   "outputs": [],
   "source": []
  }
 ],
 "metadata": {
  "kernelspec": {
   "display_name": "Python 3",
   "language": "python",
   "name": "python3"
  },
  "language_info": {
   "codemirror_mode": {
    "name": "ipython",
    "version": 3
   },
   "file_extension": ".py",
   "mimetype": "text/x-python",
   "name": "python",
   "nbconvert_exporter": "python",
   "pygments_lexer": "ipython3",
   "version": "3.10.10"
  }
 },
 "nbformat": 4,
 "nbformat_minor": 2
}
