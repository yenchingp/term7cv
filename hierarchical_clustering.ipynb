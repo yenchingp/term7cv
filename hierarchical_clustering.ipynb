{
 "cells": [
  {
   "cell_type": "markdown",
   "metadata": {},
   "source": [
    "# Feature Extraction"
   ]
  },
  {
   "cell_type": "code",
   "execution_count": null,
   "metadata": {},
   "outputs": [],
   "source": [
    "import numpy as np\n",
    "import tensorflow as tf\n",
    "from tensorflow import keras\n",
    "import hdbscan"
   ]
  },
  {
   "cell_type": "markdown",
   "metadata": {},
   "source": [
    "## Load Model"
   ]
  },
  {
   "cell_type": "code",
   "execution_count": null,
   "metadata": {},
   "outputs": [],
   "source": [
    "model = keras.applications.VGG16(weights='imagenet', include_top=False)"
   ]
  },
  {
   "cell_type": "code",
   "execution_count": null,
   "metadata": {},
   "outputs": [],
   "source": [
    "from tensorflow.keras.preprocessing import image\n",
    "from tensorflow.keras.applications.vgg16 import preprocess_input\n",
    "\n",
    "def extract_vgg16_features(image_path, model):\n",
    "    # Load and preprocess the image\n",
    "    img = image.load_img(image_path, target_size=(224, 224))\n",
    "    img = image.img_to_array(img)\n",
    "    img = preprocess_input(img)\n",
    "    img = np.expand_dims(img, axis=0)\n",
    "\n",
    "    # Extract features from the desired layer (e.g., block5_pool)\n",
    "    layer_name = 'block5_pool'  # You can choose a different layer\n",
    "    intermediate_layer_model = tf.keras.models.Model(inputs=model.input, outputs=model.get_layer(layer_name).output)\n",
    "    features = intermediate_layer_model.predict(img)\n",
    "\n",
    "    return features"
   ]
  },
  {
   "cell_type": "markdown",
   "metadata": {},
   "source": [
    "## Run Model"
   ]
  },
  {
   "cell_type": "code",
   "execution_count": null,
   "metadata": {},
   "outputs": [],
   "source": [
    "import os\n",
    "\n",
    "img_dir = \"/Users/kaavi/Documents/GitHub/term7cv/dataset/objects/train_8\"\n",
    "\n",
    "features_dict = {}\n",
    "\n",
    "for img_name in os.listdir(img_dir):\n",
    "    feature = extract_vgg16_features(img_dir + \"/\" + img_name, model)\n",
    "    features_dict[img_name] = feature\n"
   ]
  },
  {
   "cell_type": "markdown",
   "metadata": {},
   "source": [
    "## Flatten Features"
   ]
  },
  {
   "cell_type": "code",
   "execution_count": null,
   "metadata": {},
   "outputs": [],
   "source": [
    "filenames = []\n",
    "feature_vectors = []\n",
    "\n",
    "for img, feature in features_dict.items():\n",
    "    filenames.append(img)\n",
    "    flattened_feature = np.reshape(feature, (7*7*512))\n",
    "    feature_vectors.append(flattened_feature)\n",
    "\n",
    "feature_vectors = np.array(feature_vectors)"
   ]
  },
  {
   "cell_type": "markdown",
   "metadata": {},
   "source": [
    "## Normalize Features"
   ]
  },
  {
   "cell_type": "code",
   "execution_count": null,
   "metadata": {},
   "outputs": [],
   "source": [
    "from sklearn.preprocessing import StandardScaler\n",
    "\n",
    "# Normalize the feature vectors\n",
    "scaler = StandardScaler()\n",
    "normalized_features = scaler.fit_transform(feature_vectors)"
   ]
  },
  {
   "cell_type": "code",
   "execution_count": null,
   "metadata": {},
   "outputs": [],
   "source": [
    "clusterer = hdbscan.HDBSCAN(min_cluster_size=10, gen_min_span_tree=True)  \n",
    "cluster_labels = clusterer.fit_predict(feature_vectors)"
   ]
  },
  {
   "cell_type": "markdown",
   "metadata": {},
   "source": [
    "# Hierarchical Clustering"
   ]
  },
  {
   "cell_type": "code",
   "execution_count": null,
   "metadata": {},
   "outputs": [],
   "source": [
    "from scipy.cluster.hierarchy import linkage, dendrogram\n",
    "import matplotlib.pyplot as plt\n",
    "\n",
    "plt.figure().set_figheight(70)\n",
    "\n",
    "# Compute the linkage matrix\n",
    "linkage_matrix = linkage(feature_vectors, method='ward')\n",
    "\n",
    "# Create a dendrogram to visualize the hierarchical structure\n",
    "dendrogram(linkage_matrix, labels=filenames, orientation=\"left\")\n",
    "\n",
    "# You can use different parameters for dendrogram visualization to customize it.\n",
    "plt.title(\"Hierarchical Clustering Dendrogram\")\n",
    "plt.savefig(\"test.png\")\n",
    "plt.show()"
   ]
  },
  {
   "cell_type": "markdown",
   "metadata": {},
   "source": [
    "## Assigning images to Clusters\n",
    "Need to find a way to automatically determine num_clusters"
   ]
  },
  {
   "cell_type": "code",
   "execution_count": null,
   "metadata": {},
   "outputs": [],
   "source": [
    "from scipy.cluster.hierarchy import fcluster\n",
    "\n",
    "# Cut the dendrogram to get flat clusters\n",
    "num_clusters = 5  # Adjust the number of clusters as needed\n",
    "cluster_assignments = fcluster(linkage_matrix, t=num_clusters, criterion='maxclust')\n",
    "\n",
    "# The cluster_assignments contain the cluster labels for each image"
   ]
  },
  {
   "cell_type": "code",
   "execution_count": null,
   "metadata": {},
   "outputs": [],
   "source": [
    "print(len(cluster_assignments))\n",
    "print(cluster_assignments)"
   ]
  },
  {
   "cell_type": "markdown",
   "metadata": {},
   "source": [
    "## Copying images to respective cluster folder"
   ]
  },
  {
   "cell_type": "code",
   "execution_count": null,
   "metadata": {},
   "outputs": [],
   "source": [
    "import shutil\n",
    "\n",
    "for img, cluster in zip(filenames, cluster_labels):\n",
    "\n",
    "    img_path_orig = img_dir + \"/\" + img\n",
    "    img_path_copy = img_dir + \"/\" + str(cluster) + \"/\" + img\n",
    "    cluster_dir = img_dir + \"/\" + str(cluster)\n",
    "\n",
    "    if not os.path.exists(cluster_dir):\n",
    "        os.makedirs(cluster_dir)\n",
    "\n",
    "    shutil.copy(img_path_orig, img_path_copy)\n"
   ]
  },
  {
   "cell_type": "code",
   "execution_count": null,
   "metadata": {},
   "outputs": [],
   "source": []
  }
 ],
 "metadata": {
  "kernelspec": {
   "display_name": "tf",
   "language": "python",
   "name": "python3"
  },
  "language_info": {
   "codemirror_mode": {
    "name": "ipython",
    "version": 3
   },
   "file_extension": ".py",
   "mimetype": "text/x-python",
   "name": "python",
   "nbconvert_exporter": "python",
   "pygments_lexer": "ipython3",
   "version": "3.10.10"
  }
 },
 "nbformat": 4,
 "nbformat_minor": 2
}
